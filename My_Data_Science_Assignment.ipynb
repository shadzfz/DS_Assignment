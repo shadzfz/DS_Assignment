{
 "cells": [
  {
   "cell_type": "code",
   "execution_count": null,
   "id": "f3c3640b-3114-4de1-b4d0-5ad25b3daff6",
   "metadata": {},
   "outputs": [],
   "source": []
  },
  {
   "cell_type": "markdown",
   "id": "f01c372e-ccc2-4618-bbde-1919a8b30410",
   "metadata": {},
   "source": [
    "# My First Data Science Assignment "
   ]
  },
  {
   "cell_type": "code",
   "execution_count": null,
   "id": "60b99a00-c8da-4fc7-9874-d15eb4a82efe",
   "metadata": {},
   "outputs": [],
   "source": []
  }
 ],
 "metadata": {
  "kernelspec": {
   "display_name": "Python 3 (ipykernel)",
   "language": "python",
   "name": "python3"
  },
  "language_info": {
   "codemirror_mode": {
    "name": "ipython",
    "version": 3
   },
   "file_extension": ".py",
   "mimetype": "text/x-python",
   "name": "python",
   "nbconvert_exporter": "python",
   "pygments_lexer": "ipython3",
   "version": "3.11.3"
  }
 },
 "nbformat": 4,
 "nbformat_minor": 5
}
